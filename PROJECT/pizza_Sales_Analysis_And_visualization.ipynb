{
  "cells": [
    {
      "cell_type": "markdown",
      "id": "c8772c5f",
      "metadata": {
        "papermill": {
          "duration": 0.012463,
          "end_time": "2024-03-05T15:51:26.207067",
          "exception": false,
          "start_time": "2024-03-05T15:51:26.194604",
          "status": "completed"
        },
        "tags": [],
        "id": "c8772c5f"
      },
      "source": [
        "# Let's import  necessary libraries!"
      ]
    },
    {
      "cell_type": "code",
      "execution_count": null,
      "id": "34597525",
      "metadata": {
        "_cell_guid": "b1076dfc-b9ad-4769-8c92-a6c4dae69d19",
        "_uuid": "8f2839f25d086af736a60e9eeb907d3b93b6e0e5",
        "execution": {
          "iopub.execute_input": "2024-03-05T15:51:26.231691Z",
          "iopub.status.busy": "2024-03-05T15:51:26.230976Z",
          "iopub.status.idle": "2024-03-05T15:51:28.752766Z",
          "shell.execute_reply": "2024-03-05T15:51:28.751565Z"
        },
        "papermill": {
          "duration": 2.537327,
          "end_time": "2024-03-05T15:51:28.755711",
          "exception": false,
          "start_time": "2024-03-05T15:51:26.218384",
          "status": "completed"
        },
        "tags": [],
        "id": "34597525"
      },
      "outputs": [],
      "source": [
        "import numpy as np\n",
        "import pandas as pd\n",
        "import matplotlib.pyplot as plt\n",
        "import seaborn as sns"
      ]
    },
    {
      "cell_type": "markdown",
      "id": "6f93a8db",
      "metadata": {
        "papermill": {
          "duration": 0.010989,
          "end_time": "2024-03-05T15:51:28.779343",
          "exception": false,
          "start_time": "2024-03-05T15:51:28.768354",
          "status": "completed"
        },
        "tags": [],
        "id": "6f93a8db"
      },
      "source": [
        "# Data loading"
      ]
    },
    {
      "cell_type": "code",
      "execution_count": null,
      "id": "1353f23e",
      "metadata": {
        "execution": {
          "iopub.execute_input": "2024-03-05T15:51:28.805328Z",
          "iopub.status.busy": "2024-03-05T15:51:28.804782Z",
          "iopub.status.idle": "2024-03-05T15:51:29.120936Z",
          "shell.execute_reply": "2024-03-05T15:51:29.119963Z"
        },
        "papermill": {
          "duration": 0.332293,
          "end_time": "2024-03-05T15:51:29.123541",
          "exception": false,
          "start_time": "2024-03-05T15:51:28.791248",
          "status": "completed"
        },
        "tags": [],
        "id": "1353f23e"
      },
      "outputs": [],
      "source": [
        "df = pd.read_csv('/content/pizza_sales.csv')"
      ]
    },
    {
      "cell_type": "markdown",
      "id": "f26b072a",
      "metadata": {
        "papermill": {
          "duration": 0.010988,
          "end_time": "2024-03-05T15:51:29.146766",
          "exception": false,
          "start_time": "2024-03-05T15:51:29.135778",
          "status": "completed"
        },
        "tags": [],
        "id": "f26b072a"
      },
      "source": [
        "# Let's explore our data"
      ]
    },
    {
      "cell_type": "code",
      "execution_count": null,
      "id": "f2bd8853",
      "metadata": {
        "execution": {
          "iopub.execute_input": "2024-03-05T15:51:29.172632Z",
          "iopub.status.busy": "2024-03-05T15:51:29.171841Z",
          "iopub.status.idle": "2024-03-05T15:51:29.200658Z",
          "shell.execute_reply": "2024-03-05T15:51:29.199441Z"
        },
        "papermill": {
          "duration": 0.044517,
          "end_time": "2024-03-05T15:51:29.203044",
          "exception": false,
          "start_time": "2024-03-05T15:51:29.158527",
          "status": "completed"
        },
        "tags": [],
        "id": "f2bd8853",
        "outputId": "7e878e3a-cb7f-4fa1-f484-cfc28c3ff9d5"
      },
      "outputs": [
        {
          "data": {
            "text/html": [
              "<div>\n",
              "<style scoped>\n",
              "    .dataframe tbody tr th:only-of-type {\n",
              "        vertical-align: middle;\n",
              "    }\n",
              "\n",
              "    .dataframe tbody tr th {\n",
              "        vertical-align: top;\n",
              "    }\n",
              "\n",
              "    .dataframe thead th {\n",
              "        text-align: right;\n",
              "    }\n",
              "</style>\n",
              "<table border=\"1\" class=\"dataframe\">\n",
              "  <thead>\n",
              "    <tr style=\"text-align: right;\">\n",
              "      <th></th>\n",
              "      <th>pizza_id</th>\n",
              "      <th>order_id</th>\n",
              "      <th>pizza_name_id</th>\n",
              "      <th>quantity</th>\n",
              "      <th>order_date</th>\n",
              "      <th>order_time</th>\n",
              "      <th>unit_price</th>\n",
              "      <th>total_price</th>\n",
              "      <th>pizza_size</th>\n",
              "      <th>pizza_category</th>\n",
              "      <th>pizza_ingredients</th>\n",
              "      <th>pizza_name</th>\n",
              "    </tr>\n",
              "  </thead>\n",
              "  <tbody>\n",
              "    <tr>\n",
              "      <th>0</th>\n",
              "      <td>1.0</td>\n",
              "      <td>1.0</td>\n",
              "      <td>hawaiian_m</td>\n",
              "      <td>1.0</td>\n",
              "      <td>1/1/2015</td>\n",
              "      <td>11:38:36</td>\n",
              "      <td>13.25</td>\n",
              "      <td>13.25</td>\n",
              "      <td>M</td>\n",
              "      <td>Classic</td>\n",
              "      <td>Sliced Ham, Pineapple, Mozzarella Cheese</td>\n",
              "      <td>The Hawaiian Pizza</td>\n",
              "    </tr>\n",
              "    <tr>\n",
              "      <th>1</th>\n",
              "      <td>2.0</td>\n",
              "      <td>2.0</td>\n",
              "      <td>classic_dlx_m</td>\n",
              "      <td>1.0</td>\n",
              "      <td>1/1/2015</td>\n",
              "      <td>11:57:40</td>\n",
              "      <td>16.00</td>\n",
              "      <td>16.00</td>\n",
              "      <td>M</td>\n",
              "      <td>Classic</td>\n",
              "      <td>Pepperoni, Mushrooms, Red Onions, Red Peppers,...</td>\n",
              "      <td>The Classic Deluxe Pizza</td>\n",
              "    </tr>\n",
              "    <tr>\n",
              "      <th>2</th>\n",
              "      <td>3.0</td>\n",
              "      <td>2.0</td>\n",
              "      <td>five_cheese_l</td>\n",
              "      <td>1.0</td>\n",
              "      <td>1/1/2015</td>\n",
              "      <td>11:57:40</td>\n",
              "      <td>18.50</td>\n",
              "      <td>18.50</td>\n",
              "      <td>L</td>\n",
              "      <td>Veggie</td>\n",
              "      <td>Mozzarella Cheese, Provolone Cheese, Smoked Go...</td>\n",
              "      <td>The Five Cheese Pizza</td>\n",
              "    </tr>\n",
              "    <tr>\n",
              "      <th>3</th>\n",
              "      <td>4.0</td>\n",
              "      <td>2.0</td>\n",
              "      <td>ital_supr_l</td>\n",
              "      <td>1.0</td>\n",
              "      <td>1/1/2015</td>\n",
              "      <td>11:57:40</td>\n",
              "      <td>20.75</td>\n",
              "      <td>20.75</td>\n",
              "      <td>L</td>\n",
              "      <td>Supreme</td>\n",
              "      <td>Calabrese Salami, Capocollo, Tomatoes, Red Oni...</td>\n",
              "      <td>The Italian Supreme Pizza</td>\n",
              "    </tr>\n",
              "    <tr>\n",
              "      <th>4</th>\n",
              "      <td>5.0</td>\n",
              "      <td>2.0</td>\n",
              "      <td>mexicana_m</td>\n",
              "      <td>1.0</td>\n",
              "      <td>1/1/2015</td>\n",
              "      <td>11:57:40</td>\n",
              "      <td>16.00</td>\n",
              "      <td>16.00</td>\n",
              "      <td>M</td>\n",
              "      <td>Veggie</td>\n",
              "      <td>Tomatoes, Red Peppers, Jalapeno Peppers, Red O...</td>\n",
              "      <td>The Mexicana Pizza</td>\n",
              "    </tr>\n",
              "  </tbody>\n",
              "</table>\n",
              "</div>"
            ],
            "text/plain": [
              "   pizza_id  order_id  pizza_name_id  quantity order_date order_time  \\\n",
              "0       1.0       1.0     hawaiian_m       1.0   1/1/2015   11:38:36   \n",
              "1       2.0       2.0  classic_dlx_m       1.0   1/1/2015   11:57:40   \n",
              "2       3.0       2.0  five_cheese_l       1.0   1/1/2015   11:57:40   \n",
              "3       4.0       2.0    ital_supr_l       1.0   1/1/2015   11:57:40   \n",
              "4       5.0       2.0     mexicana_m       1.0   1/1/2015   11:57:40   \n",
              "\n",
              "   unit_price  total_price pizza_size pizza_category  \\\n",
              "0       13.25        13.25          M        Classic   \n",
              "1       16.00        16.00          M        Classic   \n",
              "2       18.50        18.50          L         Veggie   \n",
              "3       20.75        20.75          L        Supreme   \n",
              "4       16.00        16.00          M         Veggie   \n",
              "\n",
              "                                   pizza_ingredients  \\\n",
              "0           Sliced Ham, Pineapple, Mozzarella Cheese   \n",
              "1  Pepperoni, Mushrooms, Red Onions, Red Peppers,...   \n",
              "2  Mozzarella Cheese, Provolone Cheese, Smoked Go...   \n",
              "3  Calabrese Salami, Capocollo, Tomatoes, Red Oni...   \n",
              "4  Tomatoes, Red Peppers, Jalapeno Peppers, Red O...   \n",
              "\n",
              "                  pizza_name  \n",
              "0         The Hawaiian Pizza  \n",
              "1   The Classic Deluxe Pizza  \n",
              "2      The Five Cheese Pizza  \n",
              "3  The Italian Supreme Pizza  \n",
              "4         The Mexicana Pizza  "
            ]
          },
          "execution_count": 3,
          "metadata": {},
          "output_type": "execute_result"
        }
      ],
      "source": [
        "#Look at the first five items in our df\n",
        "df.head()"
      ]
    },
    {
      "cell_type": "code",
      "execution_count": null,
      "id": "f40765b1",
      "metadata": {
        "execution": {
          "iopub.execute_input": "2024-03-05T15:51:29.231584Z",
          "iopub.status.busy": "2024-03-05T15:51:29.230837Z",
          "iopub.status.idle": "2024-03-05T15:51:29.279425Z",
          "shell.execute_reply": "2024-03-05T15:51:29.277195Z"
        },
        "papermill": {
          "duration": 0.066154,
          "end_time": "2024-03-05T15:51:29.282292",
          "exception": false,
          "start_time": "2024-03-05T15:51:29.216138",
          "status": "completed"
        },
        "tags": [],
        "id": "f40765b1",
        "outputId": "f0db7fd0-6f59-47f4-b852-cbf4785bc3ad"
      },
      "outputs": [
        {
          "name": "stdout",
          "output_type": "stream",
          "text": [
            "<class 'pandas.core.frame.DataFrame'>\n",
            "RangeIndex: 48620 entries, 0 to 48619\n",
            "Data columns (total 12 columns):\n",
            " #   Column             Non-Null Count  Dtype  \n",
            "---  ------             --------------  -----  \n",
            " 0   pizza_id           48620 non-null  float64\n",
            " 1   order_id           48620 non-null  float64\n",
            " 2   pizza_name_id      48620 non-null  object \n",
            " 3   quantity           48620 non-null  float64\n",
            " 4   order_date         48620 non-null  object \n",
            " 5   order_time         48620 non-null  object \n",
            " 6   unit_price         48620 non-null  float64\n",
            " 7   total_price        48620 non-null  float64\n",
            " 8   pizza_size         48620 non-null  object \n",
            " 9   pizza_category     48620 non-null  object \n",
            " 10  pizza_ingredients  48620 non-null  object \n",
            " 11  pizza_name         48620 non-null  object \n",
            "dtypes: float64(5), object(7)\n",
            "memory usage: 4.5+ MB\n"
          ]
        }
      ],
      "source": [
        "#A closer look at column, rows, and data types\n",
        "df.info()"
      ]
    },
    {
      "cell_type": "code",
      "execution_count": null,
      "id": "3322941a",
      "metadata": {
        "execution": {
          "iopub.execute_input": "2024-03-05T15:51:29.310270Z",
          "iopub.status.busy": "2024-03-05T15:51:29.309223Z",
          "iopub.status.idle": "2024-03-05T15:51:29.315125Z",
          "shell.execute_reply": "2024-03-05T15:51:29.314077Z"
        },
        "papermill": {
          "duration": 0.022331,
          "end_time": "2024-03-05T15:51:29.317658",
          "exception": false,
          "start_time": "2024-03-05T15:51:29.295327",
          "status": "completed"
        },
        "tags": [],
        "id": "3322941a",
        "outputId": "a45e6c9b-ba71-492a-ea12-676f57d77a31"
      },
      "outputs": [
        {
          "name": "stdout",
          "output_type": "stream",
          "text": [
            "Rows: 48620\n",
            "Columns: 12\n"
          ]
        }
      ],
      "source": [
        "#Gives us the exact rows and columns in our df\n",
        "print(f\"Rows: {df.shape[0]}\\nColumns: {df.shape[1]}\")"
      ]
    },
    {
      "cell_type": "code",
      "execution_count": null,
      "id": "1753de7e",
      "metadata": {
        "execution": {
          "iopub.execute_input": "2024-03-05T15:51:29.344366Z",
          "iopub.status.busy": "2024-03-05T15:51:29.343918Z",
          "iopub.status.idle": "2024-03-05T15:51:29.381639Z",
          "shell.execute_reply": "2024-03-05T15:51:29.380490Z"
        },
        "papermill": {
          "duration": 0.054262,
          "end_time": "2024-03-05T15:51:29.384754",
          "exception": false,
          "start_time": "2024-03-05T15:51:29.330492",
          "status": "completed"
        },
        "tags": [],
        "id": "1753de7e",
        "outputId": "27af70b2-b9fe-4554-a6cd-fa06675ab3f0"
      },
      "outputs": [
        {
          "data": {
            "text/html": [
              "<div>\n",
              "<style scoped>\n",
              "    .dataframe tbody tr th:only-of-type {\n",
              "        vertical-align: middle;\n",
              "    }\n",
              "\n",
              "    .dataframe tbody tr th {\n",
              "        vertical-align: top;\n",
              "    }\n",
              "\n",
              "    .dataframe thead th {\n",
              "        text-align: right;\n",
              "    }\n",
              "</style>\n",
              "<table border=\"1\" class=\"dataframe\">\n",
              "  <thead>\n",
              "    <tr style=\"text-align: right;\">\n",
              "      <th></th>\n",
              "      <th>pizza_id</th>\n",
              "      <th>order_id</th>\n",
              "      <th>quantity</th>\n",
              "      <th>unit_price</th>\n",
              "      <th>total_price</th>\n",
              "    </tr>\n",
              "  </thead>\n",
              "  <tbody>\n",
              "    <tr>\n",
              "      <th>count</th>\n",
              "      <td>48620.000000</td>\n",
              "      <td>48620.000000</td>\n",
              "      <td>48620.000000</td>\n",
              "      <td>48620.000000</td>\n",
              "      <td>48620.000000</td>\n",
              "    </tr>\n",
              "    <tr>\n",
              "      <th>mean</th>\n",
              "      <td>24310.500000</td>\n",
              "      <td>10701.479761</td>\n",
              "      <td>1.019622</td>\n",
              "      <td>16.494132</td>\n",
              "      <td>16.821474</td>\n",
              "    </tr>\n",
              "    <tr>\n",
              "      <th>std</th>\n",
              "      <td>14035.529381</td>\n",
              "      <td>6180.119770</td>\n",
              "      <td>0.143077</td>\n",
              "      <td>3.621789</td>\n",
              "      <td>4.437398</td>\n",
              "    </tr>\n",
              "    <tr>\n",
              "      <th>min</th>\n",
              "      <td>1.000000</td>\n",
              "      <td>1.000000</td>\n",
              "      <td>1.000000</td>\n",
              "      <td>9.750000</td>\n",
              "      <td>9.750000</td>\n",
              "    </tr>\n",
              "    <tr>\n",
              "      <th>25%</th>\n",
              "      <td>12155.750000</td>\n",
              "      <td>5337.000000</td>\n",
              "      <td>1.000000</td>\n",
              "      <td>12.750000</td>\n",
              "      <td>12.750000</td>\n",
              "    </tr>\n",
              "    <tr>\n",
              "      <th>50%</th>\n",
              "      <td>24310.500000</td>\n",
              "      <td>10682.500000</td>\n",
              "      <td>1.000000</td>\n",
              "      <td>16.500000</td>\n",
              "      <td>16.500000</td>\n",
              "    </tr>\n",
              "    <tr>\n",
              "      <th>75%</th>\n",
              "      <td>36465.250000</td>\n",
              "      <td>16100.000000</td>\n",
              "      <td>1.000000</td>\n",
              "      <td>20.250000</td>\n",
              "      <td>20.500000</td>\n",
              "    </tr>\n",
              "    <tr>\n",
              "      <th>max</th>\n",
              "      <td>48620.000000</td>\n",
              "      <td>21350.000000</td>\n",
              "      <td>4.000000</td>\n",
              "      <td>35.950000</td>\n",
              "      <td>83.000000</td>\n",
              "    </tr>\n",
              "  </tbody>\n",
              "</table>\n",
              "</div>"
            ],
            "text/plain": [
              "           pizza_id      order_id      quantity    unit_price   total_price\n",
              "count  48620.000000  48620.000000  48620.000000  48620.000000  48620.000000\n",
              "mean   24310.500000  10701.479761      1.019622     16.494132     16.821474\n",
              "std    14035.529381   6180.119770      0.143077      3.621789      4.437398\n",
              "min        1.000000      1.000000      1.000000      9.750000      9.750000\n",
              "25%    12155.750000   5337.000000      1.000000     12.750000     12.750000\n",
              "50%    24310.500000  10682.500000      1.000000     16.500000     16.500000\n",
              "75%    36465.250000  16100.000000      1.000000     20.250000     20.500000\n",
              "max    48620.000000  21350.000000      4.000000     35.950000     83.000000"
            ]
          },
          "execution_count": 6,
          "metadata": {},
          "output_type": "execute_result"
        }
      ],
      "source": [
        "#Some more info on our numerical columns\n",
        "df.describe()"
      ]
    },
    {
      "cell_type": "code",
      "execution_count": null,
      "id": "8ba30510",
      "metadata": {
        "execution": {
          "iopub.execute_input": "2024-03-05T15:51:29.511457Z",
          "iopub.status.busy": "2024-03-05T15:51:29.511064Z",
          "iopub.status.idle": "2024-03-05T15:51:29.535636Z",
          "shell.execute_reply": "2024-03-05T15:51:29.534448Z"
        },
        "papermill": {
          "duration": 0.040747,
          "end_time": "2024-03-05T15:51:29.538294",
          "exception": false,
          "start_time": "2024-03-05T15:51:29.497547",
          "status": "completed"
        },
        "tags": [],
        "id": "8ba30510",
        "outputId": "acd74198-e969-4457-dee5-ec445db2d18c"
      },
      "outputs": [
        {
          "data": {
            "text/plain": [
              "pizza_id             0\n",
              "order_id             0\n",
              "pizza_name_id        0\n",
              "quantity             0\n",
              "order_date           0\n",
              "order_time           0\n",
              "unit_price           0\n",
              "total_price          0\n",
              "pizza_size           0\n",
              "pizza_category       0\n",
              "pizza_ingredients    0\n",
              "pizza_name           0\n",
              "dtype: int64"
            ]
          },
          "execution_count": 8,
          "metadata": {},
          "output_type": "execute_result"
        }
      ],
      "source": [
        "#Check for nulls\n",
        "df.isna().sum()"
      ]
    },
    {
      "cell_type": "code",
      "execution_count": null,
      "id": "c0579b84",
      "metadata": {
        "execution": {
          "iopub.execute_input": "2024-03-05T15:51:29.565989Z",
          "iopub.status.busy": "2024-03-05T15:51:29.565597Z",
          "iopub.status.idle": "2024-03-05T15:51:29.616214Z",
          "shell.execute_reply": "2024-03-05T15:51:29.615080Z"
        },
        "papermill": {
          "duration": 0.067093,
          "end_time": "2024-03-05T15:51:29.618595",
          "exception": false,
          "start_time": "2024-03-05T15:51:29.551502",
          "status": "completed"
        },
        "tags": [],
        "id": "c0579b84",
        "outputId": "cbb0a9fa-7ac4-4b9d-cd0d-eefaf9580cb6"
      },
      "outputs": [
        {
          "data": {
            "text/plain": [
              "0"
            ]
          },
          "execution_count": 9,
          "metadata": {},
          "output_type": "execute_result"
        }
      ],
      "source": [
        "#Check duplicated data\n",
        "df.duplicated().sum()"
      ]
    },
    {
      "cell_type": "markdown",
      "id": "53a57347",
      "metadata": {
        "papermill": {
          "duration": 0.013732,
          "end_time": "2024-03-05T15:51:29.644808",
          "exception": false,
          "start_time": "2024-03-05T15:51:29.631076",
          "status": "completed"
        },
        "tags": [],
        "id": "53a57347"
      },
      "source": [
        "# Now we  anlysis the sales and charting!"
      ]
    },
    {
      "cell_type": "code",
      "execution_count": null,
      "id": "c3e56c8b",
      "metadata": {
        "execution": {
          "iopub.execute_input": "2024-03-05T15:51:29.672577Z",
          "iopub.status.busy": "2024-03-05T15:51:29.671846Z",
          "iopub.status.idle": "2024-03-05T15:51:30.128666Z",
          "shell.execute_reply": "2024-03-05T15:51:30.127526Z"
        },
        "papermill": {
          "duration": 0.473444,
          "end_time": "2024-03-05T15:51:30.131096",
          "exception": false,
          "start_time": "2024-03-05T15:51:29.657652",
          "status": "completed"
        },
        "tags": [],
        "id": "c3e56c8b",
        "outputId": "e996a88a-c752-47b2-fc5e-f16e95b061fb"
      },
      "outputs": [
        {
          "data": {
            "image/png": "[encoded data removed]",
            "text/plain": [
              "<Figure size 640x480 with 2 Axes>"
            ]
          },
          "metadata": {},
          "output_type": "display_data"
        }
      ],
      "source": [
        "# Heat Map for Correlation\n",
        "numeric_columns = df.select_dtypes(include= ['number']) #number takes only our numeric columns\n",
        "sns.heatmap(numeric_columns.corr(),cmap = 'Reds', annot =True) #Red seems right for a heatmap\n",
        "plt.show()"
      ]
    },
    {
      "cell_type": "code",
      "execution_count": null,
      "id": "eb4f6a1e",
      "metadata": {
        "execution": {
          "iopub.execute_input": "2024-03-05T15:51:30.161035Z",
          "iopub.status.busy": "2024-03-05T15:51:30.160622Z",
          "iopub.status.idle": "2024-03-05T15:51:30.173153Z",
          "shell.execute_reply": "2024-03-05T15:51:30.171917Z"
        },
        "papermill": {
          "duration": 0.030915,
          "end_time": "2024-03-05T15:51:30.175745",
          "exception": false,
          "start_time": "2024-03-05T15:51:30.144830",
          "status": "completed"
        },
        "tags": [],
        "id": "eb4f6a1e"
      },
      "outputs": [],
      "source": [
        "#Simple groupby for total sale price per order.\n",
        "total_sales_per_order = df.groupby('order_id')['total_price'].sum().reset_index()"
      ]
    },
    {
      "cell_type": "code",
      "execution_count": null,
      "id": "2c9502bd",
      "metadata": {
        "execution": {
          "iopub.execute_input": "2024-03-05T15:51:30.204434Z",
          "iopub.status.busy": "2024-03-05T15:51:30.204039Z",
          "iopub.status.idle": "2024-03-05T15:51:30.217207Z",
          "shell.execute_reply": "2024-03-05T15:51:30.216244Z"
        },
        "papermill": {
          "duration": 0.030266,
          "end_time": "2024-03-05T15:51:30.219484",
          "exception": false,
          "start_time": "2024-03-05T15:51:30.189218",
          "status": "completed"
        },
        "tags": [],
        "id": "2c9502bd",
        "outputId": "528e83a0-8f15-471f-d250-dd8d42026696"
      },
      "outputs": [
        {
          "data": {
            "text/html": [
              "<div>\n",
              "<style scoped>\n",
              "    .dataframe tbody tr th:only-of-type {\n",
              "        vertical-align: middle;\n",
              "    }\n",
              "\n",
              "    .dataframe tbody tr th {\n",
              "        vertical-align: top;\n",
              "    }\n",
              "\n",
              "    .dataframe thead th {\n",
              "        text-align: right;\n",
              "    }\n",
              "</style>\n",
              "<table border=\"1\" class=\"dataframe\">\n",
              "  <thead>\n",
              "    <tr style=\"text-align: right;\">\n",
              "      <th></th>\n",
              "      <th>order_id</th>\n",
              "      <th>total_price</th>\n",
              "    </tr>\n",
              "  </thead>\n",
              "  <tbody>\n",
              "    <tr>\n",
              "      <th>0</th>\n",
              "      <td>1.0</td>\n",
              "      <td>13.25</td>\n",
              "    </tr>\n",
              "    <tr>\n",
              "      <th>1</th>\n",
              "      <td>2.0</td>\n",
              "      <td>92.00</td>\n",
              "    </tr>\n",
              "    <tr>\n",
              "      <th>2</th>\n",
              "      <td>3.0</td>\n",
              "      <td>37.25</td>\n",
              "    </tr>\n",
              "    <tr>\n",
              "      <th>3</th>\n",
              "      <td>4.0</td>\n",
              "      <td>16.50</td>\n",
              "    </tr>\n",
              "    <tr>\n",
              "      <th>4</th>\n",
              "      <td>5.0</td>\n",
              "      <td>16.50</td>\n",
              "    </tr>\n",
              "    <tr>\n",
              "      <th>...</th>\n",
              "      <td>...</td>\n",
              "      <td>...</td>\n",
              "    </tr>\n",
              "    <tr>\n",
              "      <th>21345</th>\n",
              "      <td>21346.0</td>\n",
              "      <td>62.25</td>\n",
              "    </tr>\n",
              "    <tr>\n",
              "      <th>21346</th>\n",
              "      <td>21347.0</td>\n",
              "      <td>66.50</td>\n",
              "    </tr>\n",
              "    <tr>\n",
              "      <th>21347</th>\n",
              "      <td>21348.0</td>\n",
              "      <td>46.70</td>\n",
              "    </tr>\n",
              "    <tr>\n",
              "      <th>21348</th>\n",
              "      <td>21349.0</td>\n",
              "      <td>20.25</td>\n",
              "    </tr>\n",
              "    <tr>\n",
              "      <th>21349</th>\n",
              "      <td>21350.0</td>\n",
              "      <td>12.75</td>\n",
              "    </tr>\n",
              "  </tbody>\n",
              "</table>\n",
              "<p>21350 rows × 2 columns</p>\n",
              "</div>"
            ],
            "text/plain": [
              "       order_id  total_price\n",
              "0           1.0        13.25\n",
              "1           2.0        92.00\n",
              "2           3.0        37.25\n",
              "3           4.0        16.50\n",
              "4           5.0        16.50\n",
              "...         ...          ...\n",
              "21345   21346.0        62.25\n",
              "21346   21347.0        66.50\n",
              "21347   21348.0        46.70\n",
              "21348   21349.0        20.25\n",
              "21349   21350.0        12.75\n",
              "\n",
              "[21350 rows x 2 columns]"
            ]
          },
          "execution_count": 12,
          "metadata": {},
          "output_type": "execute_result"
        }
      ],
      "source": [
        "#We have some big spenders!\n",
        "total_sales_per_order"
      ]
    },
    {
      "cell_type": "code",
      "execution_count": null,
      "id": "379d7b16",
      "metadata": {
        "execution": {
          "iopub.execute_input": "2024-03-05T15:51:30.322893Z",
          "iopub.status.busy": "2024-03-05T15:51:30.322527Z",
          "iopub.status.idle": "2024-03-05T15:51:30.333022Z",
          "shell.execute_reply": "2024-03-05T15:51:30.331889Z"
        },
        "papermill": {
          "duration": 0.027218,
          "end_time": "2024-03-05T15:51:30.335395",
          "exception": false,
          "start_time": "2024-03-05T15:51:30.308177",
          "status": "completed"
        },
        "tags": [],
        "id": "379d7b16",
        "outputId": "019dee86-58dc-4d06-a94f-bf706df4dc55"
      },
      "outputs": [
        {
          "data": {
            "text/plain": [
              "array(['1/1/2015', '2/1/2015', '3/1/2015', '4/1/2015', '5/1/2015',\n",
              "       '6/1/2015', '7/1/2015', '8/1/2015', '9/1/2015', '10/1/2015',\n",
              "       '11/1/2015', '12/1/2015', '13-01-2015', '14-01-2015', '15-01-2015',\n",
              "       '16-01-2015', '17-01-2015', '18-01-2015', '19-01-2015',\n",
              "       '20-01-2015', '21-01-2015', '22-01-2015', '23-01-2015',\n",
              "       '24-01-2015', '25-01-2015', '26-01-2015', '27-01-2015',\n",
              "       '28-01-2015', '29-01-2015', '30-01-2015', '31-01-2015', '1/2/2015',\n",
              "       '2/2/2015', '3/2/2015', '4/2/2015', '5/2/2015', '6/2/2015',\n",
              "       '7/2/2015', '8/2/2015', '9/2/2015', '10/2/2015', '11/2/2015',\n",
              "       '12/2/2015', '13-02-2015', '14-02-2015', '15-02-2015',\n",
              "       '16-02-2015', '17-02-2015', '18-02-2015', '19-02-2015'],\n",
              "      dtype=object)"
            ]
          },
          "execution_count": 15,
          "metadata": {},
          "output_type": "execute_result"
        }
      ],
      "source": [
        "# Now that our functions have been defined let's take a look at order date\n",
        "\n",
        "df[\"order_date\"].unique()[:50]"
      ]
    },
    {
      "cell_type": "code",
      "execution_count": null,
      "id": "c79d18c6",
      "metadata": {
        "execution": {
          "iopub.execute_input": "2024-03-05T15:51:30.365655Z",
          "iopub.status.busy": "2024-03-05T15:51:30.365279Z",
          "iopub.status.idle": "2024-03-05T15:51:30.492758Z",
          "shell.execute_reply": "2024-03-05T15:51:30.491540Z"
        },
        "papermill": {
          "duration": 0.14603,
          "end_time": "2024-03-05T15:51:30.495487",
          "exception": false,
          "start_time": "2024-03-05T15:51:30.349457",
          "status": "completed"
        },
        "tags": [],
        "id": "c79d18c6"
      },
      "outputs": [],
      "source": [
        "# Convert 'order_date' to datetime, letting pandas infer the format\n",
        "df['order_date'] = pd.to_datetime(df['order_date'], errors='coerce')\n",
        "# Format 'order_date' as 'DD-MM-YYYY'\n",
        "df['order_date'] = df['order_date'].dt.strftime('%d-%m-%Y')"
      ]
    },
    {
      "cell_type": "code",
      "execution_count": null,
      "id": "28574c67",
      "metadata": {
        "execution": {
          "iopub.execute_input": "2024-03-05T15:51:30.526683Z",
          "iopub.status.busy": "2024-03-05T15:51:30.526314Z",
          "iopub.status.idle": "2024-03-05T15:51:30.588140Z",
          "shell.execute_reply": "2024-03-05T15:51:30.586956Z"
        },
        "papermill": {
          "duration": 0.080997,
          "end_time": "2024-03-05T15:51:30.591270",
          "exception": false,
          "start_time": "2024-03-05T15:51:30.510273",
          "status": "completed"
        },
        "tags": [],
        "id": "28574c67"
      },
      "outputs": [],
      "source": [
        "# Let's create a new column combining order date and time. This format will be in: 'DD-MM-YYYY HH:MM:SS'\n",
        "df['order_date_time'] = pd.to_datetime(df['order_date'] + ' ' + df['order_time'], format='%d-%m-%Y %H:%M:%S')"
      ]
    },
    {
      "cell_type": "code",
      "execution_count": null,
      "id": "ee49114f",
      "metadata": {
        "execution": {
          "iopub.execute_input": "2024-03-05T15:51:30.622944Z",
          "iopub.status.busy": "2024-03-05T15:51:30.622569Z",
          "iopub.status.idle": "2024-03-05T15:51:30.642120Z",
          "shell.execute_reply": "2024-03-05T15:51:30.640819Z"
        },
        "papermill": {
          "duration": 0.039612,
          "end_time": "2024-03-05T15:51:30.644903",
          "exception": false,
          "start_time": "2024-03-05T15:51:30.605291",
          "status": "completed"
        },
        "tags": [],
        "id": "ee49114f",
        "outputId": "8d180d73-ab63-4732-b6b4-75fa9fd3d7a4"
      },
      "outputs": [
        {
          "data": {
            "text/html": [
              "<div>\n",
              "<style scoped>\n",
              "    .dataframe tbody tr th:only-of-type {\n",
              "        vertical-align: middle;\n",
              "    }\n",
              "\n",
              "    .dataframe tbody tr th {\n",
              "        vertical-align: top;\n",
              "    }\n",
              "\n",
              "    .dataframe thead th {\n",
              "        text-align: right;\n",
              "    }\n",
              "</style>\n",
              "<table border=\"1\" class=\"dataframe\">\n",
              "  <thead>\n",
              "    <tr style=\"text-align: right;\">\n",
              "      <th></th>\n",
              "      <th>pizza_id</th>\n",
              "      <th>order_id</th>\n",
              "      <th>pizza_name_id</th>\n",
              "      <th>quantity</th>\n",
              "      <th>order_date</th>\n",
              "      <th>order_time</th>\n",
              "      <th>unit_price</th>\n",
              "      <th>total_price</th>\n",
              "      <th>pizza_size</th>\n",
              "      <th>pizza_category</th>\n",
              "      <th>pizza_ingredients</th>\n",
              "      <th>pizza_name</th>\n",
              "      <th>order_date_time</th>\n",
              "    </tr>\n",
              "  </thead>\n",
              "  <tbody>\n",
              "    <tr>\n",
              "      <th>0</th>\n",
              "      <td>1.0</td>\n",
              "      <td>1.0</td>\n",
              "      <td>hawaiian_m</td>\n",
              "      <td>1.0</td>\n",
              "      <td>01-01-2015</td>\n",
              "      <td>11:38:36</td>\n",
              "      <td>13.25</td>\n",
              "      <td>13.25</td>\n",
              "      <td>M</td>\n",
              "      <td>Classic</td>\n",
              "      <td>Sliced Ham, Pineapple, Mozzarella Cheese</td>\n",
              "      <td>The Hawaiian Pizza</td>\n",
              "      <td>2015-01-01 11:38:36</td>\n",
              "    </tr>\n",
              "    <tr>\n",
              "      <th>1</th>\n",
              "      <td>2.0</td>\n",
              "      <td>2.0</td>\n",
              "      <td>classic_dlx_m</td>\n",
              "      <td>1.0</td>\n",
              "      <td>01-01-2015</td>\n",
              "      <td>11:57:40</td>\n",
              "      <td>16.00</td>\n",
              "      <td>16.00</td>\n",
              "      <td>M</td>\n",
              "      <td>Classic</td>\n",
              "      <td>Pepperoni, Mushrooms, Red Onions, Red Peppers,...</td>\n",
              "      <td>The Classic Deluxe Pizza</td>\n",
              "      <td>2015-01-01 11:57:40</td>\n",
              "    </tr>\n",
              "    <tr>\n",
              "      <th>2</th>\n",
              "      <td>3.0</td>\n",
              "      <td>2.0</td>\n",
              "      <td>five_cheese_l</td>\n",
              "      <td>1.0</td>\n",
              "      <td>01-01-2015</td>\n",
              "      <td>11:57:40</td>\n",
              "      <td>18.50</td>\n",
              "      <td>18.50</td>\n",
              "      <td>L</td>\n",
              "      <td>Veggie</td>\n",
              "      <td>Mozzarella Cheese, Provolone Cheese, Smoked Go...</td>\n",
              "      <td>The Five Cheese Pizza</td>\n",
              "      <td>2015-01-01 11:57:40</td>\n",
              "    </tr>\n",
              "    <tr>\n",
              "      <th>3</th>\n",
              "      <td>4.0</td>\n",
              "      <td>2.0</td>\n",
              "      <td>ital_supr_l</td>\n",
              "      <td>1.0</td>\n",
              "      <td>01-01-2015</td>\n",
              "      <td>11:57:40</td>\n",
              "      <td>20.75</td>\n",
              "      <td>20.75</td>\n",
              "      <td>L</td>\n",
              "      <td>Supreme</td>\n",
              "      <td>Calabrese Salami, Capocollo, Tomatoes, Red Oni...</td>\n",
              "      <td>The Italian Supreme Pizza</td>\n",
              "      <td>2015-01-01 11:57:40</td>\n",
              "    </tr>\n",
              "    <tr>\n",
              "      <th>4</th>\n",
              "      <td>5.0</td>\n",
              "      <td>2.0</td>\n",
              "      <td>mexicana_m</td>\n",
              "      <td>1.0</td>\n",
              "      <td>01-01-2015</td>\n",
              "      <td>11:57:40</td>\n",
              "      <td>16.00</td>\n",
              "      <td>16.00</td>\n",
              "      <td>M</td>\n",
              "      <td>Veggie</td>\n",
              "      <td>Tomatoes, Red Peppers, Jalapeno Peppers, Red O...</td>\n",
              "      <td>The Mexicana Pizza</td>\n",
              "      <td>2015-01-01 11:57:40</td>\n",
              "    </tr>\n",
              "  </tbody>\n",
              "</table>\n",
              "</div>"
            ],
            "text/plain": [
              "   pizza_id  order_id  pizza_name_id  quantity  order_date order_time  \\\n",
              "0       1.0       1.0     hawaiian_m       1.0  01-01-2015   11:38:36   \n",
              "1       2.0       2.0  classic_dlx_m       1.0  01-01-2015   11:57:40   \n",
              "2       3.0       2.0  five_cheese_l       1.0  01-01-2015   11:57:40   \n",
              "3       4.0       2.0    ital_supr_l       1.0  01-01-2015   11:57:40   \n",
              "4       5.0       2.0     mexicana_m       1.0  01-01-2015   11:57:40   \n",
              "\n",
              "   unit_price  total_price pizza_size pizza_category  \\\n",
              "0       13.25        13.25          M        Classic   \n",
              "1       16.00        16.00          M        Classic   \n",
              "2       18.50        18.50          L         Veggie   \n",
              "3       20.75        20.75          L        Supreme   \n",
              "4       16.00        16.00          M         Veggie   \n",
              "\n",
              "                                   pizza_ingredients  \\\n",
              "0           Sliced Ham, Pineapple, Mozzarella Cheese   \n",
              "1  Pepperoni, Mushrooms, Red Onions, Red Peppers,...   \n",
              "2  Mozzarella Cheese, Provolone Cheese, Smoked Go...   \n",
              "3  Calabrese Salami, Capocollo, Tomatoes, Red Oni...   \n",
              "4  Tomatoes, Red Peppers, Jalapeno Peppers, Red O...   \n",
              "\n",
              "                  pizza_name     order_date_time  \n",
              "0         The Hawaiian Pizza 2015-01-01 11:38:36  \n",
              "1   The Classic Deluxe Pizza 2015-01-01 11:57:40  \n",
              "2      The Five Cheese Pizza 2015-01-01 11:57:40  \n",
              "3  The Italian Supreme Pizza 2015-01-01 11:57:40  \n",
              "4         The Mexicana Pizza 2015-01-01 11:57:40  "
            ]
          },
          "execution_count": 18,
          "metadata": {},
          "output_type": "execute_result"
        }
      ],
      "source": [
        "\n",
        "df.head()"
      ]
    },
    {
      "cell_type": "code",
      "execution_count": null,
      "id": "f038d231",
      "metadata": {
        "execution": {
          "iopub.execute_input": "2024-03-05T15:51:30.737961Z",
          "iopub.status.busy": "2024-03-05T15:51:30.737564Z",
          "iopub.status.idle": "2024-03-05T15:51:30.762523Z",
          "shell.execute_reply": "2024-03-05T15:51:30.761359Z"
        },
        "papermill": {
          "duration": 0.044195,
          "end_time": "2024-03-05T15:51:30.764934",
          "exception": false,
          "start_time": "2024-03-05T15:51:30.720739",
          "status": "completed"
        },
        "tags": [],
        "id": "f038d231"
      },
      "outputs": [],
      "source": [
        "# Add new column year\n",
        "df[\"Year\"] = df[\"order_date_time\"].dt.year\n",
        "\n",
        "# Add new column month\n",
        "df[\"Month\"] = df[\"order_date_time\"].dt.month_name()\n",
        "\n",
        "# Add new column day\n",
        "df[\"Day\"] = df[\"order_date_time\"].dt.day_name()"
      ]
    },
    {
      "cell_type": "code",
      "execution_count": null,
      "id": "c0cc1587",
      "metadata": {
        "execution": {
          "iopub.execute_input": "2024-03-05T15:51:30.796217Z",
          "iopub.status.busy": "2024-03-05T15:51:30.795546Z",
          "iopub.status.idle": "2024-03-05T15:51:30.804953Z",
          "shell.execute_reply": "2024-03-05T15:51:30.803757Z"
        },
        "papermill": {
          "duration": 0.027359,
          "end_time": "2024-03-05T15:51:30.807244",
          "exception": false,
          "start_time": "2024-03-05T15:51:30.779885",
          "status": "completed"
        },
        "tags": [],
        "id": "c0cc1587",
        "outputId": "71da3f6d-b40f-42a7-f97c-579ee7f59019"
      },
      "outputs": [
        {
          "data": {
            "text/plain": [
              "array([2015.,   nan])"
            ]
          },
          "execution_count": 20,
          "metadata": {},
          "output_type": "execute_result"
        }
      ],
      "source": [
        "#Looks like all sales were in 2015\n",
        "df[\"Year\"].unique()"
      ]
    },
    {
      "cell_type": "code",
      "execution_count": null,
      "id": "b9cf206b",
      "metadata": {
        "execution": {
          "iopub.execute_input": "2024-03-05T15:51:30.838157Z",
          "iopub.status.busy": "2024-03-05T15:51:30.836981Z",
          "iopub.status.idle": "2024-03-05T15:51:30.846056Z",
          "shell.execute_reply": "2024-03-05T15:51:30.845243Z"
        },
        "papermill": {
          "duration": 0.026497,
          "end_time": "2024-03-05T15:51:30.848379",
          "exception": false,
          "start_time": "2024-03-05T15:51:30.821882",
          "status": "completed"
        },
        "tags": [],
        "id": "b9cf206b",
        "outputId": "3f214d8c-ac03-4e89-d6c5-7a44d8770cee"
      },
      "outputs": [
        {
          "data": {
            "text/plain": [
              "array(['January', 'February', 'March', 'April', 'May', 'June', 'July',\n",
              "       'August', 'September', 'October', 'November', 'December', nan],\n",
              "      dtype=object)"
            ]
          },
          "execution_count": 21,
          "metadata": {},
          "output_type": "execute_result"
        }
      ],
      "source": [
        "#Months look good\n",
        "df[\"Month\"].unique()"
      ]
    },
    {
      "cell_type": "code",
      "execution_count": null,
      "id": "791e48c6",
      "metadata": {
        "execution": {
          "iopub.execute_input": "2024-03-05T15:51:30.878547Z",
          "iopub.status.busy": "2024-03-05T15:51:30.877919Z",
          "iopub.status.idle": "2024-03-05T15:51:30.886740Z",
          "shell.execute_reply": "2024-03-05T15:51:30.885531Z"
        },
        "papermill": {
          "duration": 0.026595,
          "end_time": "2024-03-05T15:51:30.889085",
          "exception": false,
          "start_time": "2024-03-05T15:51:30.862490",
          "status": "completed"
        },
        "tags": [],
        "id": "791e48c6",
        "outputId": "8141ee8a-d8a1-44c1-ae70-fc55100a1a55"
      },
      "outputs": [
        {
          "data": {
            "text/plain": [
              "array(['Thursday', 'Sunday', 'Wednesday', 'Friday', 'Monday', 'Saturday',\n",
              "       'Tuesday', nan], dtype=object)"
            ]
          },
          "execution_count": 22,
          "metadata": {},
          "output_type": "execute_result"
        }
      ],
      "source": [
        "#Days check out\n",
        "df[\"Day\"].unique()"
      ]
    },
    {
      "cell_type": "code",
      "execution_count": null,
      "id": "7d888ffe",
      "metadata": {
        "execution": {
          "iopub.execute_input": "2024-03-05T15:51:30.920303Z",
          "iopub.status.busy": "2024-03-05T15:51:30.919877Z",
          "iopub.status.idle": "2024-03-05T15:51:31.269055Z",
          "shell.execute_reply": "2024-03-05T15:51:31.267882Z"
        },
        "papermill": {
          "duration": 0.368011,
          "end_time": "2024-03-05T15:51:31.271891",
          "exception": false,
          "start_time": "2024-03-05T15:51:30.903880",
          "status": "completed"
        },
        "tags": [],
        "id": "7d888ffe",
        "outputId": "d703ffd1-d1fd-4957-f774-ce3c14a0e26c"
      },
      "outputs": [
        {
          "data": {
            "image/png": "[encoded data removed]",
            "text/plain": [
              "<Figure size 640x480 with 1 Axes>"
            ]
          },
          "metadata": {},
          "output_type": "display_data"
        }
      ],
      "source": [
        "# Finally we plot! Let's see the number of items sold in each month\n",
        "count_plot(x_axis = \"Month\", rotation = 45)"
      ]
    },
    {
      "cell_type": "markdown",
      "id": "161c492f",
      "metadata": {
        "papermill": {
          "duration": 0.015282,
          "end_time": "2024-03-05T15:51:31.303210",
          "exception": false,
          "start_time": "2024-03-05T15:51:31.287928",
          "status": "completed"
        },
        "tags": [],
        "id": "161c492f"
      },
      "source": [
        "### Most of the people loving to buy in month of January and April!"
      ]
    },
    {
      "cell_type": "code",
      "execution_count": null,
      "id": "834d929a",
      "metadata": {
        "execution": {
          "iopub.execute_input": "2024-03-05T15:51:31.336522Z",
          "iopub.status.busy": "2024-03-05T15:51:31.336133Z",
          "iopub.status.idle": "2024-03-05T15:51:31.637558Z",
          "shell.execute_reply": "2024-03-05T15:51:31.636415Z"
        },
        "papermill": {
          "duration": 0.321513,
          "end_time": "2024-03-05T15:51:31.640268",
          "exception": false,
          "start_time": "2024-03-05T15:51:31.318755",
          "status": "completed"
        },
        "tags": [],
        "id": "834d929a",
        "outputId": "3f714a5e-05db-4455-e2ce-c5bc2c876bb0"
      },
      "outputs": [
        {
          "data": {
            "image/png": "[encoded data removed]",
            "text/plain": [
              "<Figure size 1000x600 with 1 Axes>"
            ]
          },
          "metadata": {},
          "output_type": "display_data"
        }
      ],
      "source": [
        "# Let's see the top 5 day of transactions.\n",
        "\n",
        "# Let's make the plot a littler larger for visibility\n",
        "plt.figure(figsize = (10,6))\n",
        "\n",
        "# Call our function, told you it would make life easier!\n",
        "count_plot(x_axis = \"Day\")"
      ]
    },
    {
      "cell_type": "markdown",
      "id": "e6a1ac25",
      "metadata": {
        "papermill": {
          "duration": 0.016526,
          "end_time": "2024-03-05T15:51:31.672376",
          "exception": false,
          "start_time": "2024-03-05T15:51:31.655850",
          "status": "completed"
        },
        "tags": [],
        "id": "e6a1ac25"
      },
      "source": [
        "### Thursday, Saturday, and Wednesday seem to be pizza nights"
      ]
    },
    {
      "cell_type": "code",
      "execution_count": null,
      "id": "824ad672",
      "metadata": {
        "execution": {
          "iopub.execute_input": "2024-03-05T15:51:31.706513Z",
          "iopub.status.busy": "2024-03-05T15:51:31.706139Z",
          "iopub.status.idle": "2024-03-05T15:51:31.777962Z",
          "shell.execute_reply": "2024-03-05T15:51:31.776515Z"
        },
        "papermill": {
          "duration": 0.093956,
          "end_time": "2024-03-05T15:51:31.782114",
          "exception": false,
          "start_time": "2024-03-05T15:51:31.688158",
          "status": "completed"
        },
        "tags": [],
        "id": "824ad672"
      },
      "outputs": [],
      "source": [
        "#Let's check out the most popular hours based on sales.\n",
        "#We have to change order time to a date_time value that allows for hours.\n",
        "df['order_time'] = pd.to_datetime(df['order_time'], format='%H:%M:%S')\n",
        "\n",
        "# Now extract the hour component and store it in a new column.\n",
        "df['hour'] = df['order_time'].dt.hour"
      ]
    },
    {
      "cell_type": "code",
      "execution_count": null,
      "id": "a0c13266",
      "metadata": {
        "execution": {
          "iopub.execute_input": "2024-03-05T15:51:31.821845Z",
          "iopub.status.busy": "2024-03-05T15:51:31.821466Z",
          "iopub.status.idle": "2024-03-05T15:51:32.407507Z",
          "shell.execute_reply": "2024-03-05T15:51:32.405885Z"
        },
        "papermill": {
          "duration": 0.607604,
          "end_time": "2024-03-05T15:51:32.410144",
          "exception": false,
          "start_time": "2024-03-05T15:51:31.802540",
          "status": "completed"
        },
        "tags": [],
        "id": "a0c13266",
        "outputId": "5928cd51-bf60-486a-edd1-f45d5dd501a5"
      },
      "outputs": [
        {
          "name": "stderr",
          "output_type": "stream",
          "text": [
            "/opt/conda/lib/python3.10/site-packages/seaborn/_oldcore.py:1119: FutureWarning: use_inf_as_na option is deprecated and will be removed in a future version. Convert inf values to NaN before operating instead.\n",
            "  with pd.option_context('mode.use_inf_as_na', True):\n"
          ]
        },
        {
          "data": {
            "image/png": "[encoded data removed]",
            "text/plain": [
              "<Figure size 640x480 with 1 Axes>"
            ]
          },
          "metadata": {},
          "output_type": "display_data"
        }
      ],
      "source": [
        "# see distribution of sales for hours in the day\n",
        "\n",
        "sns.kdeplot(df[\"hour\"])\n",
        "plt.show()"
      ]
    },
    {
      "cell_type": "markdown",
      "id": "52ec7eca",
      "metadata": {
        "papermill": {
          "duration": 0.016373,
          "end_time": "2024-03-05T15:51:32.442724",
          "exception": false,
          "start_time": "2024-03-05T15:51:32.426351",
          "status": "completed"
        },
        "tags": [],
        "id": "52ec7eca"
      },
      "source": [
        "### most of the people eat pizza in time of 12 PM, 1:30 PM, and of the evening at 5:30 PM and 6:30 PM."
      ]
    },
    {
      "cell_type": "code",
      "execution_count": null,
      "id": "7bda6f63",
      "metadata": {
        "execution": {
          "iopub.execute_input": "2024-03-05T15:51:32.479220Z",
          "iopub.status.busy": "2024-03-05T15:51:32.477862Z",
          "iopub.status.idle": "2024-03-05T15:51:32.488989Z",
          "shell.execute_reply": "2024-03-05T15:51:32.487890Z"
        },
        "papermill": {
          "duration": 0.032313,
          "end_time": "2024-03-05T15:51:32.491537",
          "exception": false,
          "start_time": "2024-03-05T15:51:32.459224",
          "status": "completed"
        },
        "tags": [],
        "id": "7bda6f63",
        "outputId": "a2b23de0-25df-4d44-e33d-bf0c73ef2ae1"
      },
      "outputs": [
        {
          "data": {
            "text/plain": [
              "array(['M', 'L', 'S', 'XL', 'XXL'], dtype=object)"
            ]
          },
          "execution_count": 27,
          "metadata": {},
          "output_type": "execute_result"
        }
      ],
      "source": [
        "#We have our standard pizza sizes.\n",
        "df[\"pizza_size\"].unique()"
      ]
    },
    {
      "cell_type": "code",
      "execution_count": null,
      "id": "a995c88b",
      "metadata": {
        "execution": {
          "iopub.execute_input": "2024-03-05T15:51:32.529456Z",
          "iopub.status.busy": "2024-03-05T15:51:32.529042Z",
          "iopub.status.idle": "2024-03-05T15:51:32.798432Z",
          "shell.execute_reply": "2024-03-05T15:51:32.797119Z"
        },
        "papermill": {
          "duration": 0.29076,
          "end_time": "2024-03-05T15:51:32.800913",
          "exception": false,
          "start_time": "2024-03-05T15:51:32.510153",
          "status": "completed"
        },
        "tags": [],
        "id": "a995c88b",
        "outputId": "ebb9bce5-05ee-4c33-ee57-c252c9fe65d6"
      },
      "outputs": [
        {
          "data": {
            "image/png": "[encoded data removed]",
            "text/plain": [
              "<Figure size 640x480 with 1 Axes>"
            ]
          },
          "metadata": {},
          "output_type": "display_data"
        }
      ],
      "source": [
        "#This one is easy, let's get some insight on the most sold pizza sizes.\n",
        "count_plot(x_axis = \"pizza_size\")"
      ]
    },
    {
      "cell_type": "markdown",
      "id": "bdf57403",
      "metadata": {
        "papermill": {
          "duration": 0.01872,
          "end_time": "2024-03-05T15:51:32.836942",
          "exception": false,
          "start_time": "2024-03-05T15:51:32.818222",
          "status": "completed"
        },
        "tags": [],
        "id": "bdf57403"
      },
      "source": [
        "### Large size pizza seems to be the most sold  "
      ]
    },
    {
      "cell_type": "code",
      "execution_count": null,
      "id": "9e354120",
      "metadata": {
        "execution": {
          "iopub.execute_input": "2024-03-05T15:51:32.873506Z",
          "iopub.status.busy": "2024-03-05T15:51:32.873133Z",
          "iopub.status.idle": "2024-03-05T15:51:32.883254Z",
          "shell.execute_reply": "2024-03-05T15:51:32.882125Z"
        },
        "papermill": {
          "duration": 0.031499,
          "end_time": "2024-03-05T15:51:32.885709",
          "exception": false,
          "start_time": "2024-03-05T15:51:32.854210",
          "status": "completed"
        },
        "tags": [],
        "id": "9e354120",
        "outputId": "54d38c25-6438-426b-a62a-be998eb26b89"
      },
      "outputs": [
        {
          "data": {
            "text/plain": [
              "array(['Classic', 'Veggie', 'Supreme', 'Chicken'], dtype=object)"
            ]
          },
          "execution_count": 29,
          "metadata": {},
          "output_type": "execute_result"
        }
      ],
      "source": [
        "#Checking the categories of pizza. I'd pick classic personally.\n",
        "df[\"pizza_category\"].unique()"
      ]
    },
    {
      "cell_type": "code",
      "execution_count": null,
      "id": "b8592c03",
      "metadata": {
        "execution": {
          "iopub.execute_input": "2024-03-05T15:51:32.922323Z",
          "iopub.status.busy": "2024-03-05T15:51:32.921522Z",
          "iopub.status.idle": "2024-03-05T15:51:33.099697Z",
          "shell.execute_reply": "2024-03-05T15:51:33.097839Z"
        },
        "papermill": {
          "duration": 0.200373,
          "end_time": "2024-03-05T15:51:33.103262",
          "exception": false,
          "start_time": "2024-03-05T15:51:32.902889",
          "status": "completed"
        },
        "tags": [],
        "id": "b8592c03",
        "outputId": "e77ad0c6-d6f8-4b83-ae39-037b208fdb0e"
      },
      "outputs": [
        {
          "data": {
            "image/png": "[encoded data removed]",
            "text/plain": [
              "<Figure size 640x480 with 1 Axes>"
            ]
          },
          "metadata": {},
          "output_type": "display_data"
        }
      ],
      "source": [
        "#Pie chart time\n",
        "pie_plot(column_name = \"pizza_category\", explodeIndex = 0)"
      ]
    },
    {
      "cell_type": "markdown",
      "id": "1f6101ed",
      "metadata": {
        "papermill": {
          "duration": 0.028211,
          "end_time": "2024-03-05T15:51:33.163190",
          "exception": false,
          "start_time": "2024-03-05T15:51:33.134979",
          "status": "completed"
        },
        "tags": [],
        "id": "1f6101ed"
      },
      "source": [
        "###   classic has the largest market share."
      ]
    },
    {
      "cell_type": "code",
      "execution_count": null,
      "id": "089bf8e3",
      "metadata": {
        "execution": {
          "iopub.execute_input": "2024-03-05T15:51:33.204391Z",
          "iopub.status.busy": "2024-03-05T15:51:33.203836Z",
          "iopub.status.idle": "2024-03-05T15:51:33.213489Z",
          "shell.execute_reply": "2024-03-05T15:51:33.212510Z"
        },
        "papermill": {
          "duration": 0.033135,
          "end_time": "2024-03-05T15:51:33.215895",
          "exception": false,
          "start_time": "2024-03-05T15:51:33.182760",
          "status": "completed"
        },
        "tags": [],
        "id": "089bf8e3",
        "outputId": "fd4aec2f-04eb-4337-8b26-3d9d681cda96"
      },
      "outputs": [
        {
          "data": {
            "text/plain": [
              "array([13.25, 16.  , 18.5 , 20.75, 16.5 , 12.75, 12.  , 12.5 , 20.5 ,\n",
              "       20.25, 16.75, 15.25, 17.95, 16.25, 14.75,  9.75, 17.5 , 10.5 ,\n",
              "       25.5 , 11.  , 14.5 , 12.25, 21.  , 23.65, 35.95])"
            ]
          },
          "execution_count": 31,
          "metadata": {},
          "output_type": "execute_result"
        }
      ],
      "source": [
        "# We have a bunch of different prices, pizza has such variability!\n",
        "df[\"unit_price\"].unique()"
      ]
    },
    {
      "cell_type": "code",
      "execution_count": null,
      "id": "980a5b28",
      "metadata": {
        "execution": {
          "iopub.execute_input": "2024-03-05T15:51:33.257712Z",
          "iopub.status.busy": "2024-03-05T15:51:33.256968Z",
          "iopub.status.idle": "2024-03-05T15:51:33.471278Z",
          "shell.execute_reply": "2024-03-05T15:51:33.470093Z"
        },
        "papermill": {
          "duration": 0.238406,
          "end_time": "2024-03-05T15:51:33.473683",
          "exception": false,
          "start_time": "2024-03-05T15:51:33.235277",
          "status": "completed"
        },
        "tags": [],
        "id": "980a5b28",
        "outputId": "c531cbdb-bcc5-4cb5-8a6f-9d5c9099ed14"
      },
      "outputs": [
        {
          "data": {
            "text/plain": [
              "<Axes: ylabel='unit_price'>"
            ]
          },
          "execution_count": 32,
          "metadata": {},
          "output_type": "execute_result"
        },
        {
          "data": {
            "image/png": "[encoded data removed]",
            "text/plain": [
              "<Figure size 640x480 with 1 Axes>"
            ]
          },
          "metadata": {},
          "output_type": "display_data"
        }
      ],
      "source": [
        "#We are pulling out a new plot, the boxplot! Let's check the ranges of pizza prices.\n",
        "sns.boxplot(y = \"unit_price\", data = df)"
      ]
    },
    {
      "cell_type": "markdown",
      "id": "3fec4d1b",
      "metadata": {
        "papermill": {
          "duration": 0.020974,
          "end_time": "2024-03-05T15:51:33.515855",
          "exception": false,
          "start_time": "2024-03-05T15:51:33.494881",
          "status": "completed"
        },
        "tags": [],
        "id": "3fec4d1b"
      },
      "source": [
        "### most pizzas sold in the range of 16 dollar."
      ]
    },
    {
      "cell_type": "code",
      "execution_count": null,
      "id": "4b5a7300",
      "metadata": {
        "execution": {
          "iopub.execute_input": "2024-03-05T15:51:33.558651Z",
          "iopub.status.busy": "2024-03-05T15:51:33.558258Z",
          "iopub.status.idle": "2024-03-05T15:51:34.088642Z",
          "shell.execute_reply": "2024-03-05T15:51:34.087489Z"
        },
        "papermill": {
          "duration": 0.555674,
          "end_time": "2024-03-05T15:51:34.091848",
          "exception": false,
          "start_time": "2024-03-05T15:51:33.536174",
          "status": "completed"
        },
        "tags": [],
        "id": "4b5a7300",
        "outputId": "ab0bfc88-64b3-4259-e67f-e8abb2a193ed"
      },
      "outputs": [
        {
          "name": "stderr",
          "output_type": "stream",
          "text": [
            "/opt/conda/lib/python3.10/site-packages/seaborn/_oldcore.py:1119: FutureWarning: use_inf_as_na option is deprecated and will be removed in a future version. Convert inf values to NaN before operating instead.\n",
            "  with pd.option_context('mode.use_inf_as_na', True):\n"
          ]
        },
        {
          "data": {
            "image/png": "[encoded data removed]",
            "text/plain": [
              "<Figure size 640x480 with 1 Axes>"
            ]
          },
          "metadata": {},
          "output_type": "display_data"
        }
      ],
      "source": [
        "#Let's take another look at unit price, but this time with a KDE plot.\n",
        "sns.kdeplot(x = df[\"unit_price\"], fill = True)\n",
        "plt.show()"
      ]
    },
    {
      "cell_type": "markdown",
      "id": "489a5db6",
      "metadata": {
        "papermill": {
          "duration": 0.020274,
          "end_time": "2024-03-05T15:51:34.133773",
          "exception": false,
          "start_time": "2024-03-05T15:51:34.113499",
          "status": "completed"
        },
        "tags": [],
        "id": "489a5db6"
      },
      "source": [
        "### We can see here that the prices of the pizzas mostly center around $12, 16, and 21."
      ]
    },
    {
      "cell_type": "code",
      "execution_count": null,
      "id": "78be2d93",
      "metadata": {
        "execution": {
          "iopub.execute_input": "2024-03-05T15:51:34.177208Z",
          "iopub.status.busy": "2024-03-05T15:51:34.176137Z",
          "iopub.status.idle": "2024-03-05T15:51:34.470281Z",
          "shell.execute_reply": "2024-03-05T15:51:34.468553Z"
        },
        "papermill": {
          "duration": 0.320164,
          "end_time": "2024-03-05T15:51:34.473512",
          "exception": false,
          "start_time": "2024-03-05T15:51:34.153348",
          "status": "completed"
        },
        "tags": [],
        "id": "78be2d93",
        "outputId": "3afdd314-87b8-4acd-e303-241d3d64ae92"
      },
      "outputs": [
        {
          "data": {
            "image/png": "[encoded data removed]",
            "text/plain": [
              "<Figure size 640x480 with 1 Axes>"
            ]
          },
          "metadata": {},
          "output_type": "display_data"
        }
      ],
      "source": [
        "#Back to our count plots. Let's take a closer look at these names!\n",
        "count_plot(x_axis=\"pizza_name\", rotation = 45,top=5)"
      ]
    },
    {
      "cell_type": "markdown",
      "id": "4574152d",
      "metadata": {
        "papermill": {
          "duration": 0.020697,
          "end_time": "2024-03-05T15:51:34.516343",
          "exception": false,
          "start_time": "2024-03-05T15:51:34.495646",
          "status": "completed"
        },
        "tags": [],
        "id": "4574152d"
      },
      "source": [
        "### The Classic Deluxe Pizza The most sold too."
      ]
    },
    {
      "cell_type": "code",
      "execution_count": null,
      "id": "3275e990",
      "metadata": {
        "execution": {
          "iopub.execute_input": "2024-03-05T15:51:36.181492Z",
          "iopub.status.busy": "2024-03-05T15:51:36.181092Z",
          "iopub.status.idle": "2024-03-05T15:51:36.195335Z",
          "shell.execute_reply": "2024-03-05T15:51:36.194071Z"
        },
        "papermill": {
          "duration": 0.044152,
          "end_time": "2024-03-05T15:51:36.198812",
          "exception": false,
          "start_time": "2024-03-05T15:51:36.154660",
          "status": "completed"
        },
        "tags": [],
        "id": "3275e990",
        "outputId": "9776ee41-2b09-49e2-fd7a-e4e5144347df"
      },
      "outputs": [
        {
          "name": "stdout",
          "output_type": "stream",
          "text": [
            "The most common amount of pizzas bought per order is: 1\n"
          ]
        }
      ],
      "source": [
        "#Find the mode of the pizza counts per order to verify.\n",
        "pizzas_per_order2 = df.groupby('order_id')['pizza_id'].count()\n",
        "most_common_amount = pizzas_per_order2.mode()[0]\n",
        "\n",
        "print(f\"The most common amount of pizzas bought per order is: {most_common_amount}\")"
      ]
    },
    {
      "cell_type": "markdown",
      "id": "d68836e2",
      "metadata": {
        "papermill": {
          "duration": 0.024983,
          "end_time": "2024-03-05T15:51:36.247419",
          "exception": false,
          "start_time": "2024-03-05T15:51:36.222436",
          "status": "completed"
        },
        "tags": [],
        "id": "d68836e2"
      },
      "source": [
        "## Most people stop by to order 1 pizza."
      ]
    },
    {
      "cell_type": "code",
      "source": [],
      "metadata": {
        "id": "cwSoTZXMRYF4"
      },
      "id": "cwSoTZXMRYF4",
      "execution_count": null,
      "outputs": []
    }
  ],
  "metadata": {
    "kaggle": {
      "accelerator": "none",
      "dataSources": [
        {
          "datasetId": 4269243,
          "sourceId": 7351371,
          "sourceType": "datasetVersion"
        }
      ],
      "dockerImageVersionId": 30664,
      "isGpuEnabled": false,
      "isInternetEnabled": true,
      "language": "python",
      "sourceType": "notebook"
    },
    "kernelspec": {
      "display_name": "Python 3",
      "language": "python",
      "name": "python3"
    },
    "language_info": {
      "codemirror_mode": {
        "name": "ipython",
        "version": 3
      },
      "file_extension": ".py",
      "mimetype": "text/x-python",
      "name": "python",
      "nbconvert_exporter": "python",
      "pygments_lexer": "ipython3",
      "version": "3.10.13"
    },
    "papermill": {
      "default_parameters": {},
      "duration": 13.897844,
      "end_time": "2024-03-05T15:51:37.139834",
      "environment_variables": {},
      "exception": null,
      "input_path": "__notebook__.ipynb",
      "output_path": "__notebook__.ipynb",
      "parameters": {},
      "start_time": "2024-03-05T15:51:23.241990",
      "version": "2.5.0"
    },
    "colab": {
      "provenance": []
    }
  },
  "nbformat": 4,
  "nbformat_minor": 5
}